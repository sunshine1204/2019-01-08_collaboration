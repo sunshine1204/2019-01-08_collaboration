{
  "nbformat": 4,
  "nbformat_minor": 0,
  "metadata": {
    "colab": {
      "name": "Untitled1.ipynb",
      "provenance": [],
      "collapsed_sections": [],
      "toc_visible": true,
      "authorship_tag": "ABX9TyMgGhRuu9rLhAiMWnyQXUFu",
      "include_colab_link": true
    },
    "kernelspec": {
      "name": "python3",
      "display_name": "Python 3"
    }
  },
  "cells": [
    {
      "cell_type": "markdown",
      "metadata": {
        "id": "view-in-github",
        "colab_type": "text"
      },
      "source": [
        "<a href=\"https://colab.research.google.com/github/sunshine1204/2019-01-08_collaboration/blob/master/googlecolab_test1.ipynb\" target=\"_parent\"><img src=\"https://colab.research.google.com/assets/colab-badge.svg\" alt=\"Open In Colab\"/></a>"
      ]
    },
    {
      "cell_type": "code",
      "metadata": {
        "id": "cijkcZW-mE2S",
        "colab": {
          "base_uri": "https://localhost:8080/"
        },
        "outputId": "27d07586-ed5f-4ed6-e8fa-f9cf05e9fbb2"
      },
      "source": [
        "from tensorflow.python.client import device_lib\r\n",
        "device_lib.list_local_devices()\r\n",
        "\r\n",
        "import os\r\n",
        "from google.colab import drive\r\n",
        "drive.mount('/content/drive')\r\n",
        "path = '/content/drive/My Drive'\r\n",
        "## set the root directory\r\n",
        "os.chdir(path)\r\n",
        "## list all directories in path\r\n",
        "os.listdir(path)\r\n",
        "\r\n"
      ],
      "execution_count": 6,
      "outputs": [
        {
          "output_type": "stream",
          "text": [
            "Drive already mounted at /content/drive; to attempt to forcibly remount, call drive.mount(\"/content/drive\", force_remount=True).\n"
          ],
          "name": "stdout"
        },
        {
          "output_type": "execute_result",
          "data": {
            "text/plain": [
              "['China.tif',\n",
              " 'LandCover.tif',\n",
              " 'evi.tif',\n",
              " 'ndvi.tif',\n",
              " 'MOD09A1',\n",
              " 'fishnetCount (1).csv',\n",
              " 'fishnetCount.csv',\n",
              " 'LandCoverPercentD01deg.tif',\n",
              " 'LandCoverPercentD01deg_GRA.tif',\n",
              " 'LandCoverPercent_01deg_GRA-2.tif',\n",
              " 'EarthEngine',\n",
              " 'MCI2 (1).tif',\n",
              " 'cloud2 (1).tif',\n",
              " 'merbleue.csv',\n",
              " 'queens.csv',\n",
              " 'LandCoverPercent-020deg-GRA.tif',\n",
              " 'DEM_TP_020deg.tif',\n",
              " 'GTOPO30-DEM-1km.tif',\n",
              " 'pheno_select_Img_aggre-020deg-GRA.tif',\n",
              " 'pheno_select_Img_aggre-020deg-GRA-2.tif',\n",
              " 'cloud2.tif',\n",
              " 'MCI2.tif',\n",
              " 'export_Points',\n",
              " 'test',\n",
              " 'EOS_2018_MCD12Q2_EVI2_Trs_Annual2.tif',\n",
              " 'PPT_2018_MCD12Q2_EVI2_Trs_Annual2.tif',\n",
              " 'SOS_2018_MCD12Q2_EVI2_Trs_Annual2.tif',\n",
              " 'SOS_2018_MCD12Q2_EVI2_Trs_Annual3.tif',\n",
              " 'SOS_2018_MCD12Q2_EVI2_Trs_Annual4.tif',\n",
              " 'SOS_2018_MCD12Q2_EVI2_Trs_Annual5.tif',\n",
              " 'Phenology_MCD12Q2_EVI2',\n",
              " 'Phenology_MCD12Q2_EVI2_TP',\n",
              " 'Copy of Exploring Landcover Changes.gsheet',\n",
              " 'SOS_thld_test.tif',\n",
              " 'validObs.tif',\n",
              " 'SOS_thld_2019',\n",
              " 'EOS_thld_2019',\n",
              " 'LGS_thld_2019',\n",
              " 'SOS_thld_2019new',\n",
              " 'EOS_thld_2019new',\n",
              " 'LGS_thld_2019new',\n",
              " 'histogram',\n",
              " 'histogram-175-test2',\n",
              " 'LGS_deriv_2019evaluate',\n",
              " 'EOS_deriv_2019evaluate',\n",
              " 'SOS_deriv_2019evaluate',\n",
              " 'SOS_175.tif',\n",
              " 'SOS_258.tif',\n",
              " 'SOS_283.tif',\n",
              " 'EOS_GanNan.tif',\n",
              " 'Colab Notebooks',\n",
              " 'Untitled0.ipynb',\n",
              " 'SOS_deriv_GanNan',\n",
              " 'Histogram_deriv_GanNan',\n",
              " 'sample_get.csv',\n",
              " 'sample_get2.csv',\n",
              " 'sample_get-2.csv',\n",
              " 'sample_get-test3.csv',\n",
              " 'sample_get-test4.csv',\n",
              " 'sample_get-test6.csv',\n",
              " 'sample_get-test7 (1).csv',\n",
              " 'sample_get-test7.csv',\n",
              " 'sample_get_test8.csv',\n",
              " 'sample_get-test9.csv',\n",
              " 'sample_get-test10.csv',\n",
              " 'sample_get-test11.csv',\n",
              " 'sample_get-test12.csv',\n",
              " 'Extra_AmeriFlux-sites-GRA.csv',\n",
              " 'NDSI_2018_evaluate',\n",
              " 'LSWI_2018_evaluate',\n",
              " 'NIRv_2018_evaluate',\n",
              " 'EVI_2018_evaluate',\n",
              " 'NDVI_2018_evaluate',\n",
              " 'DEM_IM_LP_020deg.tif',\n",
              " 'DEM_IM_LP_020deg1.tif',\n",
              " 'Untitled1.ipynb']"
            ]
          },
          "metadata": {
            "tags": []
          },
          "execution_count": 6
        }
      ]
    }
  ]
}